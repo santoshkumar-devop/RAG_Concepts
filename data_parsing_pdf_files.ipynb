{
 "cells": [
  {
   "cell_type": "markdown",
   "id": "30be81c6",
   "metadata": {},
   "source": [
    "Steps to setup a Project\n",
    "\n",
    "1. Create Virtual Environment and swith to virtual environment\n",
    "2. pip install uv\n",
    "3. uv init\n",
    "4. uv add ipykernel, langchain, langchain-community, pypdf, pymupdf"
   ]
  },
  {
   "cell_type": "code",
   "execution_count": 1,
   "id": "7d478c65",
   "metadata": {},
   "outputs": [],
   "source": [
    "from langchain_community.document_loaders import (\n",
    "    PyPDFLoader,\n",
    "    PyMuPDFLoader\n",
    ")"
   ]
  },
  {
   "cell_type": "code",
   "execution_count": null,
   "id": "975da0d7",
   "metadata": {},
   "outputs": [],
   "source": [
    "# Method 1 - PypdfLoader\n",
    "print(\"PyPdfloader\")\n",
    "\n",
    "try:\n",
    "    pypdf_loader=PyPDFLoader(\"attention.pdf\")\n",
    "    pypdf_docs=pypdf_loader.load()\n",
    "    print(pypdf_docs)\n",
    "    print(f\"  Loaded {len(pypdf_docs)} pages\")\n",
    "    print(f\"  Page 1 content: {pypdf_docs[0].page_content[:100]}...\")\n",
    "    print(f\"  Metadata: {pypdf_docs[0].metadata}\")\n",
    "\n",
    "except Exception as e:\n",
    "    print(f\"Error : {e}\")"
   ]
  },
  {
   "cell_type": "code",
   "execution_count": null,
   "id": "0c784e23",
   "metadata": {},
   "outputs": [],
   "source": [
    "# Method 2: PyMuPDFLoader (Fast and accurate)\n",
    "print(\"\\n3️⃣ PyMuPDFLoader\")\n",
    "try:\n",
    "    pymupdf_loader = PyMuPDFLoader(\"attention.pdf\")\n",
    "    pymupdf_docs = pymupdf_loader.load()\n",
    "    \n",
    "    print(f\"  Loaded {len(pymupdf_docs)} pages\")\n",
    "    print(f\"  Includes detailed metadata\")\n",
    "    print(pymupdf_docs)\n",
    "except Exception as e:\n",
    "    print(f\"  Error: {e}\")"
   ]
  },
  {
   "cell_type": "markdown",
   "id": "c27f59e1",
   "metadata": {},
   "source": [
    "# 📊 PDF Loader Comparison\n",
    "print(\"\\n📊 PDF Loader Comparison:\")\n",
    "print(\"\\nPyPDFLoader:\")\n",
    "print(\"  ✅ Simple and reliable\")\n",
    "print(\"  ✅ Good for most PDFs\")\n",
    "print(\"  ✅ Preserves page numbers\")\n",
    "print(\"  ❌ Basic text extraction\")\n",
    "print(\"  Use when: Standard text PDFs\")\n",
    "\n",
    "print(\"\\nPyMuPDFLoader:\")\n",
    "print(\"  ✅ Fast processing\")\n",
    "print(\"  ✅ Good text extraction\")\n",
    "print(\"  ✅ Image extraction support\")\n",
    "print(\"  Use when: Speed is important\")"
   ]
  },
  {
   "cell_type": "code",
   "execution_count": 8,
   "id": "c6bb4f8b",
   "metadata": {},
   "outputs": [],
   "source": [
    "from langchain_community.document_loaders import PyPDFLoader\n",
    "from langchain.text_splitter import RecursiveCharacterTextSplitter\n",
    "from langchain_core.documents import Document\n",
    "from typing import List\n",
    "class SmartPDFProcessor:\n",
    "    \"\"\"Advanced PDF processing with error handling\"\"\"\n",
    "    def __init__(self,chunk_size=1000,chunk_overlap=100):\n",
    "        self.chunk_size=chunk_size,\n",
    "        self.chunk_overlap=chunk_overlap,\n",
    "        self.text_splitter=RecursiveCharacterTextSplitter(\n",
    "            chunk_size=chunk_size,\n",
    "            chunk_overlap=chunk_overlap,\n",
    "            separators=[\" \"],\n",
    "\n",
    "        )\n",
    "\n",
    "    def process_pdf(self,pdf_path:str)->List[Document]:\n",
    "        \"\"\"Process PDF with smart chunking and metadata enhancement\"\"\"\n",
    "\n",
    "        # Laod PDF\n",
    "\n",
    "        loader=PyPDFLoader(pdf_path)\n",
    "        pages=loader.load()\n",
    "\n",
    "        ## Process each page\n",
    "\n",
    "        processed_chunks=[]\n",
    "\n",
    "        for page_num,page in enumerate(pages):\n",
    "            ## clean text\n",
    "            cleaned_text=self._clean_text(page.page_content)\n",
    "\n",
    "            # Skip nearly empty pages\n",
    "            if len(cleaned_text.strip()) < 50:\n",
    "                continue\n",
    "\n",
    "            # Create chunks with enhanced metadata\n",
    "            chunks = self.text_splitter.create_documents(\n",
    "                texts=[cleaned_text],\n",
    "                metadatas=[{\n",
    "                    **page.metadata,\n",
    "                    \"page\": page_num + 1,\n",
    "                    \"total_pages\": len(pages),\n",
    "                    \"chunk_method\": \"smart_pdf_processor\",\n",
    "                    \"char_count\": len(cleaned_text)\n",
    "                }]\n",
    "            )\n",
    "            \n",
    "            processed_chunks.extend(chunks)\n",
    "\n",
    "        return processed_chunks\n",
    "\n",
    "    def _clean_text(self, text: str) -> str:\n",
    "        \"\"\"Clean extracted text\"\"\"\n",
    "        # Remove excessive whitespace\n",
    "        text = \" \".join(text.split())\n",
    "        \n",
    "        # Fix common PDF extraction issues\n",
    "        text = text.replace(\"ﬁ\", \"fi\")\n",
    "        text = text.replace(\"ﬂ\", \"fl\")\n",
    "        \n",
    "        return text"
   ]
  },
  {
   "cell_type": "code",
   "execution_count": null,
   "id": "741adb6c",
   "metadata": {},
   "outputs": [],
   "source": [
    "## Process a PDF if available\n",
    "try:\n",
    "    preprocessor=SmartPDFProcessor()\n",
    "    smart_chunks=preprocessor.process_pdf(\"attention.pdf\")\n",
    "    print(f\"Processed into {len(smart_chunks)} smart chunks\")\n",
    "\n",
    "    # Show enhanced metadata\n",
    "    if smart_chunks:\n",
    "        print(\"\\nSample chunk metadata:\")\n",
    "        for key, value in smart_chunks[0].metadata.items():\n",
    "            print(f\"  {key}: {value}\")\n",
    "\n",
    "except Exception as e:\n",
    "    print(f\"Processing error: {e}\")"
   ]
  }
 ],
 "metadata": {
  "kernelspec": {
   "display_name": "rag-concepts",
   "language": "python",
   "name": "python3"
  },
  "language_info": {
   "codemirror_mode": {
    "name": "ipython",
    "version": 3
   },
   "file_extension": ".py",
   "mimetype": "text/x-python",
   "name": "python",
   "nbconvert_exporter": "python",
   "pygments_lexer": "ipython3",
   "version": "3.12.1"
  }
 },
 "nbformat": 4,
 "nbformat_minor": 5
}
