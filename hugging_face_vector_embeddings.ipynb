{
 "cells": [
  {
   "cell_type": "markdown",
   "id": "27da6614",
   "metadata": {},
   "source": [
    "Steps to setup a Project\n",
    "\n",
    "Create Virtual Environment and swith to virtual environment\n",
    "pip install uv\n",
    "uv init\n",
    "uv add ipykernel, langchain, langchain-community, langchain_huggingface"
   ]
  },
  {
   "cell_type": "code",
   "execution_count": null,
   "id": "02417701",
   "metadata": {},
   "outputs": [],
   "source": [
    "### Huggingface And OpenAI Models\n",
    "\n",
    "from langchain_huggingface import HuggingFaceEmbeddings\n",
    "\n",
    "## Initialize a simple Embedding model\n",
    "embeddings=HuggingFaceEmbeddings(\n",
    "    model_name=\"sentence-transformers/all-MiniLM-L6-v2\"\n",
    ")\n",
    "embeddings\n"
   ]
  },
  {
   "cell_type": "code",
   "execution_count": null,
   "id": "e5c1c10c",
   "metadata": {},
   "outputs": [],
   "source": [
    "## create your first embeddings\n",
    "text=\"Hello, I am learning about embeddings!\"\n",
    "\n",
    "embedding=embeddings.embed_query(text)\n",
    "print(f\"Text: {text}\")\n",
    "print(f\"Embedding length : {len(embedding)}\")\n",
    "print(embedding)"
   ]
  },
  {
   "cell_type": "code",
   "execution_count": null,
   "id": "ea6c39c5",
   "metadata": {},
   "outputs": [],
   "source": [
    "sentences = [\n",
    "    \"The cat sat on the mat\",\n",
    "    \"The cat sat on the mat\",\n",
    "    \"The dog played in the yard\",\n",
    "    \"I love programming in Python\",\n",
    "    \"Python is my favorite programming language\"\n",
    "]\n",
    "\n",
    "embedding_sentence=embeddings.embed_documents(sentences)\n",
    "\n",
    "print(embedding_sentence[0])\n",
    "print(embedding_sentence[1])"
   ]
  },
  {
   "cell_type": "code",
   "execution_count": null,
   "id": "fe734258",
   "metadata": {},
   "outputs": [],
   "source": [
    "from langchain_huggingface import HuggingFaceEmbeddings\n",
    "import time\n",
    "\n",
    "# Popular models comparison\n",
    "models = {\n",
    "    \"all-MiniLM-L6-v2\": {\n",
    "        \"size\": 384,\n",
    "        \"description\": \"Fast and efficient, good quality\",\n",
    "        \"use_case\": \"General purpose, real-time applications\"\n",
    "    },\n",
    "    \"all-mpnet-base-v2\": {\n",
    "        \"size\": 768,\n",
    "        \"description\": \"Best quality, slower than MiniLM\",\n",
    "        \"use_case\": \"When quality matters more than speed\"\n",
    "    },\n",
    "    \"all-MiniLM-L12-v2\": {\n",
    "        \"size\": 384,\n",
    "        \"description\": \"Slightly better than L6, bit slower\",\n",
    "        \"use_case\": \"Good balance of speed and quality\"\n",
    "    },\n",
    "    \"multi-qa-MiniLM-L6-cos-v1\": {\n",
    "        \"size\": 384,\n",
    "        \"description\": \"Optimized for question-answering\",\n",
    "        \"use_case\": \"Q&A systems, semantic search\"\n",
    "    },\n",
    "    \"paraphrase-multilingual-MiniLM-L12-v2\": {\n",
    "        \"size\": 384,\n",
    "        \"description\": \"Supports 50+ languages\",\n",
    "        \"use_case\": \"Multilingual applications\"\n",
    "    }\n",
    "}\n",
    "\n",
    "print(\"📊 Popular Open Source Embedding Models:\\n\")\n",
    "for model_name, info in models.items():\n",
    "    print(f\"Model: sentence-transformers/{model_name}\")\n",
    "    print(f\"  📏 Embedding size: {info['size']} dimensions\")\n",
    "    print(f\"  📝 Description: {info['description']}\")\n",
    "    print(f\"  🎯 Use case: {info['use_case']}\\n\")\n"
   ]
  }
 ],
 "metadata": {
  "kernelspec": {
   "display_name": "Projects",
   "language": "python",
   "name": "python3"
  },
  "language_info": {
   "codemirror_mode": {
    "name": "ipython",
    "version": 3
   },
   "file_extension": ".py",
   "mimetype": "text/x-python",
   "name": "python",
   "nbconvert_exporter": "python",
   "pygments_lexer": "ipython3",
   "version": "3.13.5"
  }
 },
 "nbformat": 4,
 "nbformat_minor": 5
}
