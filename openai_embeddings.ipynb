{
 "cells": [
  {
   "cell_type": "markdown",
   "id": "aa4153cf",
   "metadata": {},
   "source": [
    "Steps to setup a Project\n",
    "\n",
    "Create Virtual Environment and swith to virtual environment\n",
    "pip install uv\n",
    "uv init\n",
    "uv add ipykernel, langchain, langchain-community, dotenv, langchain_openai\n",
    "Create a API KEY from OPENAI and add in .env file"
   ]
  },
  {
   "cell_type": "code",
   "execution_count": null,
   "id": "d2db4bb6",
   "metadata": {
    "vscode": {
     "languageId": "plaintext"
    }
   },
   "outputs": [],
   "source": [
    "import os\n",
    "from dotenv import load_dotenv\n",
    "load_dotenv()\n",
    "os.environ[\"OPENAI_API_KEY\"]=os.getenv(\"OPENAI_API_KEY\")"
   ]
  },
  {
   "cell_type": "code",
   "execution_count": null,
   "id": "128f4a52",
   "metadata": {
    "vscode": {
     "languageId": "plaintext"
    }
   },
   "outputs": [],
   "source": [
    "from langchain_openai import OpenAIEmbeddings\n",
    "embeddings=OpenAIEmbeddings(model=\"text-embedding-3-small\")\n",
    "embeddings"
   ]
  },
  {
   "cell_type": "code",
   "execution_count": null,
   "id": "2c9e5134",
   "metadata": {
    "vscode": {
     "languageId": "plaintext"
    }
   },
   "outputs": [],
   "source": [
    "## Single text embeddings\n",
    "single_text=\"Langchain and Rag are amazing frameworks and projects to work on\"\n",
    "single_embeddings=embeddings.embed_query(single_text)\n",
    "print(len(single_embeddings))\n",
    "print(single_embeddings)\n",
    "print(\"📝 Single Text Embedding:\")\n",
    "print(f\"Input: {single_text}\")\n",
    "print(f\"Output: Vector of {len(single_embeddings)} dimensions\")\n",
    "print(f\"Sample values: {single_embeddings[:5]}\")"
   ]
  },
  {
   "cell_type": "code",
   "execution_count": null,
   "id": "ea0da0c8",
   "metadata": {
    "vscode": {
     "languageId": "plaintext"
    }
   },
   "outputs": [],
   "source": [
    "# Example 2: Multiple texts at once\n",
    "multiple_texts = [\n",
    "    \"Python is a programming language\",\n",
    "    \"LangChain is a framework for LLM applications\",\n",
    "    \"Embeddings convert text to numbers\",\n",
    "    \"Vectors can be compared for similarity\"\n",
    "]\n",
    "multiple_embeddings = embeddings.embed_documents(multiple_texts)\n",
    "print(\"\\n📚 Multiple Text Embeddings:\")\n",
    "print(f\"Number of texts: {len(multiple_texts)}\")\n",
    "print(f\"Number of embeddings: {len(multiple_embeddings)}\")\n",
    "print(f\"Each embedding size: {len(multiple_embeddings[0])}\")"
   ]
  },
  {
   "cell_type": "code",
   "execution_count": null,
   "id": "8b7b13ac",
   "metadata": {
    "vscode": {
     "languageId": "plaintext"
    }
   },
   "outputs": [],
   "source": [
    "\n",
    "from langchain_openai import OpenAIEmbeddings\n",
    "\n",
    "# Different OpenAI embedding models\n",
    "models_comparison = {\n",
    "    \"text-embedding-3-small\": {\n",
    "        \"dimensions\": 1536,\n",
    "        \"description\": \"Good balance of performance and cost\",\n",
    "        \"cost_per_1m_tokens\": 0.02,\n",
    "        \"use_case\": \"General purpose, cost-effective\"\n",
    "    },\n",
    "    \"text-embedding-3-large\": {\n",
    "        \"dimensions\": 3072,\n",
    "        \"description\": \"Highest quality embeddings\",\n",
    "        \"cost_per_1m_tokens\": 0.13,\n",
    "        \"use_case\": \"When accuracy is critical\"\n",
    "    },\n",
    "    \"text-embedding-ada-002\": {\n",
    "        \"dimensions\": 1536,\n",
    "        \"description\": \"Previous generation model\",\n",
    "        \"cost_per_1m_tokens\": 0.10,\n",
    "        \"use_case\": \"Legacy applications\"\n",
    "    }\n",
    "}\n",
    "\n",
    "# Display comparison\n",
    "print(\"📊 OpenAI Embedding Models Comparison:\\n\")\n",
    "for model_name, details in models_comparison.items():\n",
    "    print(f\"Model: {model_name}\")\n",
    "    print(f\"  📏 Dimensions: {details['dimensions']}\")\n",
    "    print(f\"  💰 Cost: ${details['cost_per_1m_tokens']}/1M tokens\")\n",
    "    print(f\"  📝 Description: {details['description']}\")\n",
    "    print(f\"  🎯 Use case: {details['use_case']}\\n\")"
   ]
  }
 ],
 "metadata": {
  "language_info": {
   "name": "python"
  }
 },
 "nbformat": 4,
 "nbformat_minor": 5
}
